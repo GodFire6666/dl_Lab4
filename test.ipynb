{
 "cells": [
  {
   "cell_type": "code",
   "execution_count": 2,
   "outputs": [],
   "source": [
    "import torch\n",
    "import torch.nn as nn\n",
    "import dgl\n",
    "from dgl.utils import expand_as_pair, check_eq_shape\n",
    "import torch.nn.functional as F\n",
    "import dgl.function as fn"
   ],
   "metadata": {
    "collapsed": false,
    "pycharm": {
     "name": "#%%\n"
    }
   }
  },
  {
   "cell_type": "code",
   "execution_count": null,
   "outputs": [],
   "source": [
    "class model(nn.Module):\n",
    "    def __init__(self,\n",
    "                 in_feats,\n",
    "                 out_feats,\n",
    "                 aggregator_type,\n",
    "                 bias =True,\n",
    "                 norm=None,\n",
    "                 activation=None) -> None:\n",
    "        super().__init__()\n",
    "        self.in_src_feats, self.in_dst_feats = expand_as_pair(in_feats)\n",
    "        self.out_src_feats = out_feats\n",
    "        self._aggre_type = aggregator_type\n",
    "        self.norm = norm\n",
    "        self.activation = activation\n",
    "        if aggregator_type not in ['mean', 'pool', 'lstm', 'gcn']:\n",
    "            raise KeyError('Aggregator type {} not supported.'.format(aggregator_type))\n",
    "        if aggregator_type == 'pool':\n",
    "            self.fc_pool = nn.Linear(self.in_src_feats, self.out_src_feats)\n",
    "        if aggregator_type == 'lstm':\n",
    "            self.lstm = nn.LSTM(self.in_src_feats, self.out_src_feats, batch_first=True)\n",
    "        if aggregator_type in ['mean', 'pool', 'lstm']:\n",
    "            self.fc_self = nn.Linear(self._in_dst_feats, out_feats, bias=bias)\n",
    "        self.fc_neigh = nn.Linear(self._in_dst_feats, out_feats, bias=bias)\n",
    "        self.reset_parameters()\n",
    "\n",
    "    def reset_parameters(self):\n",
    "        gain = nn.init.calculate_gain('relu')\n",
    "        if self._aggre_type == 'pool':\n",
    "            nn.init.xavier_uniform_(self.fc_pool.weight, gain=gain)\n",
    "        if self._aggre_type == 'lstm':\n",
    "            self.lstm.reset_parameters()\n",
    "        if self._aggre_type != 'gcn':\n",
    "            nn.init.xavier_uniform_(self.fc_self.weight, gain=gain)\n",
    "        nn.init.xavier_uniform_(self.fc_neigh.weight, gain=gain)\n",
    "\n",
    "    def forward(self, graph, feat):\n",
    "        with graph.local_scope():\n",
    "            feat_src, feat_dst = expand_as_pair(feat, graph)\n",
    "            h_self = feat_dst\n",
    "            if self._aggre_type == 'mean':\n",
    "                graph.srcdata['h'] = feat_src\n",
    "                graph.update_all(fn.copy_u('h', 'm'), fn.mean('m', 'neigh'))\n",
    "                h_neigh = graph.dstdata['neigh']\n",
    "            elif self._aggre_type == 'gcn':\n",
    "                check_eq_shape(feat)\n",
    "                graph.srcdata['h'] = feat_src\n",
    "                graph.dstdata['h'] = feat_dst\n",
    "                graph.update_all(fn.copy_u('h', 'm'), fn.sum('m', 'neigh'))\n",
    "                # 除以入度\n",
    "                degs = graph.in_degrees().to(feat_dst)\n",
    "                h_neigh = (graph.dstdata['neigh'] + graph.dstdata['h']) / (degs.unsqueeze(-1) + 1)\n",
    "            elif self._aggre_type == 'pool':\n",
    "                graph.srcdata['h'] = F.relu(self.fc_pool(feat_src))\n",
    "                graph.update_all(fn.copy_u('h', 'm'), fn.max('m', 'neigh'))\n",
    "                h_neigh = graph.dstdata['neigh']\n",
    "            else:\n",
    "                raise KeyError('Aggregator type {} not recognized.'.format(self._aggre_type))\n",
    "\n",
    "            if self._aggre_type == 'gcn':\n",
    "                rst = self.fc_neigh(h_neigh)\n",
    "            else:\n",
    "                rst = self.fc_self(h_self) + self.fc_neigh(h_neigh)\n",
    "\n",
    "            if self.activation is not None:\n",
    "                rst = self.activation(rst)\n",
    "            # 归一化\n",
    "            if self.norm is not None:\n",
    "                rst = self.norm(rst)\n",
    "            return rst"
   ],
   "metadata": {
    "collapsed": false,
    "pycharm": {
     "name": "#%%\n"
    }
   }
  }
 ],
 "metadata": {
  "kernelspec": {
   "display_name": "Python 3",
   "language": "python",
   "name": "python3"
  },
  "language_info": {
   "codemirror_mode": {
    "name": "ipython",
    "version": 2
   },
   "file_extension": ".py",
   "mimetype": "text/x-python",
   "name": "python",
   "nbconvert_exporter": "python",
   "pygments_lexer": "ipython2",
   "version": "2.7.6"
  }
 },
 "nbformat": 4,
 "nbformat_minor": 0
}